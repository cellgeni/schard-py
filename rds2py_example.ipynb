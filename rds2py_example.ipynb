{
 "cells": [
  {
   "cell_type": "code",
   "execution_count": 1,
   "id": "e090d6e7-76d5-4c34-b2e0-7498c0209a3c",
   "metadata": {
    "tags": []
   },
   "outputs": [],
   "source": [
    "import anndata\n",
    "import rds2py\n",
    "import rds2py.read_matrix\n",
    "import pandas as pd"
   ]
  },
  {
   "cell_type": "code",
   "execution_count": 2,
   "id": "ea4c0ba1-bab4-4d47-a196-d72e1c2330d3",
   "metadata": {
    "tags": []
   },
   "outputs": [],
   "source": [
    "def rds2Series(obj):\n",
    "    val = obj['data']\n",
    "    if ('class' in obj['attributes']) and (obj['attributes']['class'] == 'factor'):\n",
    "        val = [obj['attributes']['levels']['data'][i-1] for i in val]\n",
    "    val = pd.Series(val)\n",
    "    if 'names' in obj['attributes']:\n",
    "        val.index = obj['attributes']['names']['data']\n",
    "    return val\n",
    "\n",
    "def rds2DataFrame(obj):\n",
    "    val = {obj['attributes']['names']['data'][i]:rds2Series(obj['data'][i]) for i in range(len(obj['attributes']['names']['data']))}\n",
    "    val = pd.DataFrame(val)\n",
    "    val.index = obj['attributes']['row.names']['data']\n",
    "    return val"
   ]
  },
  {
   "cell_type": "markdown",
   "id": "8a4f11a3-830e-45a8-b460-14ecfa7c62b7",
   "metadata": {},
   "source": [
    "# Read rds"
   ]
  },
  {
   "cell_type": "code",
   "execution_count": 3,
   "id": "33c5aede-81ad-42fe-b2e5-7a08bb97747c",
   "metadata": {
    "tags": []
   },
   "outputs": [
    {
     "name": "stderr",
     "output_type": "stream",
     "text": [
      "/software/cellgen/cellgeni/pm19/envs/sc/lib/python3.12/site-packages/rds2py/generics.py:137: RuntimeWarning: RDS file contains an unknown class: 'Seurat', returning the dictionary\n",
      "  warn(\n"
     ]
    }
   ],
   "source": [
    "robj = rds2py.read_rds('rds/seurat.rds')"
   ]
  },
  {
   "cell_type": "markdown",
   "id": "b153d763-31ef-4695-a094-18d349ebd319",
   "metadata": {},
   "source": [
    "# Extract obs"
   ]
  },
  {
   "cell_type": "code",
   "execution_count": 6,
   "id": "1dc70905-ed70-4979-8254-8944b4757588",
   "metadata": {
    "tags": []
   },
   "outputs": [
    {
     "data": {
      "text/html": [
       "<div>\n",
       "<style scoped>\n",
       "    .dataframe tbody tr th:only-of-type {\n",
       "        vertical-align: middle;\n",
       "    }\n",
       "\n",
       "    .dataframe tbody tr th {\n",
       "        vertical-align: top;\n",
       "    }\n",
       "\n",
       "    .dataframe thead th {\n",
       "        text-align: right;\n",
       "    }\n",
       "</style>\n",
       "<table border=\"1\" class=\"dataframe\">\n",
       "  <thead>\n",
       "    <tr style=\"text-align: right;\">\n",
       "      <th></th>\n",
       "      <th>orig.ident</th>\n",
       "      <th>nCount_RNA</th>\n",
       "      <th>nFeature_RNA</th>\n",
       "    </tr>\n",
       "  </thead>\n",
       "  <tbody>\n",
       "    <tr>\n",
       "      <th>AAACCTGCAGCCTGTG-1</th>\n",
       "      <td>1</td>\n",
       "      <td>5029.0</td>\n",
       "      <td>1819</td>\n",
       "    </tr>\n",
       "    <tr>\n",
       "      <th>AAACGGGTCGCTGATA-1</th>\n",
       "      <td>1</td>\n",
       "      <td>4343.0</td>\n",
       "      <td>1738</td>\n",
       "    </tr>\n",
       "    <tr>\n",
       "      <th>AAAGATGTCCTCGCAT-1</th>\n",
       "      <td>1</td>\n",
       "      <td>898.0</td>\n",
       "      <td>554</td>\n",
       "    </tr>\n",
       "    <tr>\n",
       "      <th>AAAGCAAAGTATGACA-1</th>\n",
       "      <td>1</td>\n",
       "      <td>4999.0</td>\n",
       "      <td>1796</td>\n",
       "    </tr>\n",
       "    <tr>\n",
       "      <th>AAAGCAATCCATTCTA-1</th>\n",
       "      <td>1</td>\n",
       "      <td>601.0</td>\n",
       "      <td>416</td>\n",
       "    </tr>\n",
       "    <tr>\n",
       "      <th>...</th>\n",
       "      <td>...</td>\n",
       "      <td>...</td>\n",
       "      <td>...</td>\n",
       "    </tr>\n",
       "    <tr>\n",
       "      <th>TTTGGTTTCAACGAAA-1</th>\n",
       "      <td>1</td>\n",
       "      <td>1408.0</td>\n",
       "      <td>815</td>\n",
       "    </tr>\n",
       "    <tr>\n",
       "      <th>TTTGGTTTCTGAGGGA-1</th>\n",
       "      <td>1</td>\n",
       "      <td>6074.0</td>\n",
       "      <td>2003</td>\n",
       "    </tr>\n",
       "    <tr>\n",
       "      <th>TTTGTCAAGCCCAATT-1</th>\n",
       "      <td>1</td>\n",
       "      <td>8067.0</td>\n",
       "      <td>2727</td>\n",
       "    </tr>\n",
       "    <tr>\n",
       "      <th>TTTGTCAAGTCTCAAC-1</th>\n",
       "      <td>1</td>\n",
       "      <td>4770.0</td>\n",
       "      <td>1767</td>\n",
       "    </tr>\n",
       "    <tr>\n",
       "      <th>TTTGTCATCGCAAACT-1</th>\n",
       "      <td>1</td>\n",
       "      <td>7866.0</td>\n",
       "      <td>2389</td>\n",
       "    </tr>\n",
       "  </tbody>\n",
       "</table>\n",
       "<p>972 rows × 3 columns</p>\n",
       "</div>"
      ],
      "text/plain": [
       "                    orig.ident  nCount_RNA  nFeature_RNA\n",
       "AAACCTGCAGCCTGTG-1           1      5029.0          1819\n",
       "AAACGGGTCGCTGATA-1           1      4343.0          1738\n",
       "AAAGATGTCCTCGCAT-1           1       898.0           554\n",
       "AAAGCAAAGTATGACA-1           1      4999.0          1796\n",
       "AAAGCAATCCATTCTA-1           1       601.0           416\n",
       "...                        ...         ...           ...\n",
       "TTTGGTTTCAACGAAA-1           1      1408.0           815\n",
       "TTTGGTTTCTGAGGGA-1           1      6074.0          2003\n",
       "TTTGTCAAGCCCAATT-1           1      8067.0          2727\n",
       "TTTGTCAAGTCTCAAC-1           1      4770.0          1767\n",
       "TTTGTCATCGCAAACT-1           1      7866.0          2389\n",
       "\n",
       "[972 rows x 3 columns]"
      ]
     },
     "execution_count": 6,
     "metadata": {},
     "output_type": "execute_result"
    }
   ],
   "source": [
    "obs = rds2DataFrame(robj['attributes']['meta.data'])\n",
    "obs"
   ]
  },
  {
   "cell_type": "markdown",
   "id": "ea5b1fea-f4a9-402d-ac43-bcbfe458c698",
   "metadata": {},
   "source": [
    "# Extract var"
   ]
  },
  {
   "cell_type": "code",
   "execution_count": 7,
   "id": "958273f8-82e3-4028-ba57-250300874284",
   "metadata": {
    "tags": []
   },
   "outputs": [
    {
     "data": {
      "text/html": [
       "<div>\n",
       "<style scoped>\n",
       "    .dataframe tbody tr th:only-of-type {\n",
       "        vertical-align: middle;\n",
       "    }\n",
       "\n",
       "    .dataframe tbody tr th {\n",
       "        vertical-align: top;\n",
       "    }\n",
       "\n",
       "    .dataframe thead th {\n",
       "        text-align: right;\n",
       "    }\n",
       "</style>\n",
       "<table border=\"1\" class=\"dataframe\">\n",
       "  <thead>\n",
       "    <tr style=\"text-align: right;\">\n",
       "      <th></th>\n",
       "      <th>name</th>\n",
       "    </tr>\n",
       "  </thead>\n",
       "  <tbody>\n",
       "    <tr>\n",
       "      <th>MIR1302-2HG</th>\n",
       "      <td>MIR1302-2HG</td>\n",
       "    </tr>\n",
       "    <tr>\n",
       "      <th>FAM138A</th>\n",
       "      <td>FAM138A</td>\n",
       "    </tr>\n",
       "    <tr>\n",
       "      <th>OR4F5</th>\n",
       "      <td>OR4F5</td>\n",
       "    </tr>\n",
       "    <tr>\n",
       "      <th>AL627309.1</th>\n",
       "      <td>AL627309.1</td>\n",
       "    </tr>\n",
       "    <tr>\n",
       "      <th>AL627309.3</th>\n",
       "      <td>AL627309.3</td>\n",
       "    </tr>\n",
       "    <tr>\n",
       "      <th>...</th>\n",
       "      <td>...</td>\n",
       "    </tr>\n",
       "    <tr>\n",
       "      <th>AC141272.1</th>\n",
       "      <td>AC141272.1</td>\n",
       "    </tr>\n",
       "    <tr>\n",
       "      <th>AC023491.2</th>\n",
       "      <td>AC023491.2</td>\n",
       "    </tr>\n",
       "    <tr>\n",
       "      <th>AC007325.1</th>\n",
       "      <td>AC007325.1</td>\n",
       "    </tr>\n",
       "    <tr>\n",
       "      <th>AC007325.4</th>\n",
       "      <td>AC007325.4</td>\n",
       "    </tr>\n",
       "    <tr>\n",
       "      <th>AC007325.2</th>\n",
       "      <td>AC007325.2</td>\n",
       "    </tr>\n",
       "  </tbody>\n",
       "</table>\n",
       "<p>36601 rows × 1 columns</p>\n",
       "</div>"
      ],
      "text/plain": [
       "                    name\n",
       "MIR1302-2HG  MIR1302-2HG\n",
       "FAM138A          FAM138A\n",
       "OR4F5              OR4F5\n",
       "AL627309.1    AL627309.1\n",
       "AL627309.3    AL627309.3\n",
       "...                  ...\n",
       "AC141272.1    AC141272.1\n",
       "AC023491.2    AC023491.2\n",
       "AC007325.1    AC007325.1\n",
       "AC007325.4    AC007325.4\n",
       "AC007325.2    AC007325.2\n",
       "\n",
       "[36601 rows x 1 columns]"
      ]
     },
     "execution_count": 7,
     "metadata": {},
     "output_type": "execute_result"
    }
   ],
   "source": [
    "gene_names = robj['attributes']['assays']['data'][0]['attributes']['features']['attributes']['dimnames']['data'][0]['data']\n",
    "var = pd.DataFrame({'name':gene_names})\n",
    "var.index = gene_names\n",
    "var"
   ]
  },
  {
   "cell_type": "markdown",
   "id": "d9fb2e7d-51fa-471c-a49a-dc2d553f2d03",
   "metadata": {},
   "source": [
    "# Extract counts"
   ]
  },
  {
   "cell_type": "code",
   "execution_count": 8,
   "id": "814a43b1-ccf5-4a55-acfc-6b32047fdbbc",
   "metadata": {
    "tags": []
   },
   "outputs": [
    {
     "data": {
      "text/plain": [
       "<Compressed Sparse Row sparse matrix of dtype 'float64'\n",
       "\twith 1798509 stored elements and shape (972, 36601)>"
      ]
     },
     "execution_count": 8,
     "metadata": {},
     "output_type": "execute_result"
    }
   ],
   "source": [
    "X = rds2py.read_matrix._as_sparse_matrix(robj['attributes']['assays']['data'][0]['attributes']['layers']['data'][0]).T\n",
    "X"
   ]
  },
  {
   "cell_type": "code",
   "execution_count": 9,
   "id": "604968fd-b623-4dc7-a867-ead530cfc6c0",
   "metadata": {
    "tags": []
   },
   "outputs": [
    {
     "data": {
      "text/plain": [
       "AnnData object with n_obs × n_vars = 972 × 36601\n",
       "    obs: 'orig.ident', 'nCount_RNA', 'nFeature_RNA'\n",
       "    var: 'name'"
      ]
     },
     "execution_count": 9,
     "metadata": {},
     "output_type": "execute_result"
    }
   ],
   "source": [
    "adata = anndata.AnnData(X=X,obs=obs,var=var)\n",
    "adata"
   ]
  },
  {
   "cell_type": "code",
   "execution_count": 10,
   "id": "f21bf44d-46c5-4b4b-a551-2a17dd8fc864",
   "metadata": {
    "tags": []
   },
   "outputs": [],
   "source": [
    "adata.write_h5ad('test.h5ad')"
   ]
  }
 ],
 "metadata": {
  "kernelspec": {
   "display_name": "sc",
   "language": "python",
   "name": "sc"
  },
  "language_info": {
   "codemirror_mode": {
    "name": "ipython",
    "version": 3
   },
   "file_extension": ".py",
   "mimetype": "text/x-python",
   "name": "python",
   "nbconvert_exporter": "python",
   "pygments_lexer": "ipython3",
   "version": "3.12.7"
  }
 },
 "nbformat": 4,
 "nbformat_minor": 5
}
